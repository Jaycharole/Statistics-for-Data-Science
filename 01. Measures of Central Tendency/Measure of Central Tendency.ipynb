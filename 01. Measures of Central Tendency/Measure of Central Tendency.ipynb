{
 "cells": [
  {
   "cell_type": "markdown",
   "id": "13deaca7",
   "metadata": {},
   "source": [
    "# Measures of Central Tendency"
   ]
  },
  {
   "cell_type": "markdown",
   "id": "48c6ce66",
   "metadata": {},
   "source": [
    "Measure of central tendency is a summary statistic that represents central point or typical value of a dataset.\n",
    "\n",
    "This measures indicates where most of the value in the distribution falls and are also known as **central location of distribution.**\n",
    "\n",
    "You think of it as a tendency of data to cluster around a middle value."
   ]
  },
  {
   "cell_type": "markdown",
   "id": "62d90e88",
   "metadata": {},
   "source": [
    "# Uses of Measures of Central Tendency"
   ]
  },
  {
   "cell_type": "markdown",
   "id": "6760844e",
   "metadata": {},
   "source": [
    "A measure of central tendency can be used as a standard for judging the relative positions of other items in the same set of data.\n",
    "\n",
    "A measure of central tendency can be used to compare the relative sizes of two different sets of data (for example: compare the average of two sets of data).\n",
    "\n",
    "We get the picture for the variablity (spread) of the data by looking at the dispersion (grouping of individual observations around the average). This helps us to determine the consistency among the observations."
   ]
  },
  {
   "cell_type": "markdown",
   "id": "742838e1",
   "metadata": {},
   "source": [
    "# Types of Central Tendency\n",
    "\n",
    "1. Mean\n",
    "2. Median\n",
    "3. Mode\n",
    "\n",
    "**Mean, Median, Mode** are different measures of center in a numerical data set. They each try to summarize a dataset with a single number to represent a \"typical\" data point from the data set."
   ]
  },
  {
   "cell_type": "markdown",
   "id": "fdf139f7",
   "metadata": {},
   "source": [
    "# Mean:\n",
    "\n",
    "The \"average\" number found by adding all data points divided by the number of datapoints.\n",
    "\n",
    "The mean is arithmetic average. The value where the set of data balances also called as **\"point of balance\"** when each data value is stacked on the data line.\n",
    "\n",
    "<img src=\"images/population_mean.png\">\n",
    "\n",
    "<img src=\"images/sample_mean.png\">"
   ]
  },
  {
   "cell_type": "markdown",
   "id": "47cdbb1a",
   "metadata": {},
   "source": [
    "<font color=\"red\">Mathematically solved</font>\n",
    "\n",
    "1. Find the mean of this data 1,5,4,5,8,1,2,3,4.\n",
    "\n",
    "Solution:\n",
    "\n",
    "Add all the numbers \n",
    "\n",
    "1+5+4+5+8+1+2+3+4 = 33\n",
    "\n",
    "Mean = 33/9 = 3.666"
   ]
  },
  {
   "cell_type": "markdown",
   "id": "a7b8a9cf",
   "metadata": {},
   "source": [
    "<font color=\"red\">Python code </font>"
   ]
  },
  {
   "cell_type": "code",
   "execution_count": 2,
   "id": "499470ef",
   "metadata": {},
   "outputs": [
    {
     "name": "stdout",
     "output_type": "stream",
     "text": [
      "The mean of the data point is: 3\n"
     ]
    }
   ],
   "source": [
    "import numpy as np\n",
    "import pandas as pd\n",
    "import statistics as st\n",
    "\n",
    "data = np.array([1, 5, 4, 5, 8, 1, 2, 3, 4])\n",
    "\n",
    "print(f'The mean of the data point is: {st.mean(data)}')"
   ]
  },
  {
   "cell_type": "markdown",
   "id": "f5af7259",
   "metadata": {},
   "source": [
    "<font color=\"red\">Note:</font>\n",
    "    \n",
    "Mean is the most common measures of central tendency but it has a huge downside because it is easily afftected by outliers- which value is significantly greater than other values in the dataset."
   ]
  },
  {
   "cell_type": "markdown",
   "id": "3a6e77f2",
   "metadata": {},
   "source": [
    "For example:"
   ]
  },
  {
   "cell_type": "markdown",
   "id": "d86be820",
   "metadata": {},
   "source": [
    "<font color=\"red\">Mathematically solved</font>\n",
    "\n",
    "1. Find the mean of this data 1,5,4,5,8,1,2,3,4,50.\n",
    "\n",
    "Solution:\n",
    "\n",
    "Add all the numbers \n",
    "\n",
    "1+5+4+5+8+1+2+3+4+50 = 83\n",
    "\n",
    "Mean = 83/10 = 8.3"
   ]
  },
  {
   "cell_type": "markdown",
   "id": "1eb8f110",
   "metadata": {},
   "source": [
    "<font color=\"red\">Python code</font>"
   ]
  },
  {
   "cell_type": "code",
   "execution_count": 3,
   "id": "4f3c620c",
   "metadata": {},
   "outputs": [
    {
     "name": "stdout",
     "output_type": "stream",
     "text": [
      "The mean of the data point is: 8\n"
     ]
    }
   ],
   "source": [
    "data = np.array([1, 5, 4, 5, 8, 1, 2, 3, 4, 50])\n",
    "\n",
    "print(f'The mean of the data point is: {st.mean(data)}')"
   ]
  },
  {
   "cell_type": "markdown",
   "id": "b7f80b64",
   "metadata": {},
   "source": [
    "**Explaination:**\n",
    "\n",
    "As you can see because of one outlier value 50 your mean get corrupted by high margin from 3.66 to 8.3"
   ]
  },
  {
   "cell_type": "markdown",
   "id": "3138d094",
   "metadata": {},
   "source": [
    "# Median\n",
    "\n",
    "The median is the middle value that splits the data set into half. In the middle value in distribution when values are arranged according to the size.\n",
    "\n",
    "It is the value of the variable that divides a set of data into two equal groups so that half the observations have values smaller than the median, and half the values larger than the median.\n",
    "\n",
    "The median is measure of choice when a numerical value as some few unusually low or high values in the data set. If this occurs then mean will be pulled away from the center and not be representative in majority of cases.\n",
    "\n",
    "<img src=\"images/median_odd_formula.png\">\n",
    "\n",
    "<img src=\"images/median_even_formula.png\">"
   ]
  },
  {
   "cell_type": "markdown",
   "id": "bfb21921",
   "metadata": {},
   "source": [
    "<font color=\"red\">Mathematical Implementation (Odd number of points)</font>\n",
    "\n",
    "Question: Find the median of this data: 1,5,4,8,1,2,3,9,7.\n",
    "\n",
    "Solution:\n",
    "\n",
    "1. Put the data in order first: 1,1,3,4,5,7,8,9\n",
    "\n",
    "2. There is an odd number in data points.\n",
    "\n",
    "3. SO the median is 4 the middle data point."
   ]
  },
  {
   "cell_type": "markdown",
   "id": "e8627e2e",
   "metadata": {},
   "source": [
    "<font color=\"red\">Python Code:</font>"
   ]
  },
  {
   "cell_type": "code",
   "execution_count": 4,
   "id": "611d88d9",
   "metadata": {},
   "outputs": [
    {
     "name": "stdout",
     "output_type": "stream",
     "text": [
      "The median of the data point is 4\n"
     ]
    }
   ],
   "source": [
    "data = np.array([1,5,4,8,1,2,3,9,7])\n",
    "\n",
    "print(f'The median of the data point is {st.median(data)}')"
   ]
  },
  {
   "cell_type": "markdown",
   "id": "5119fce1",
   "metadata": {},
   "source": [
    "<font color=\"red\">Mathematical Implementation (Even number of points)</font>\n",
    "\n",
    "Question: Find the median of this data: 1,5,4,8,1,2,3,9.\n",
    "\n",
    "Solution:\n",
    "\n",
    "1. Put the data in order first: 1,1,3,4,5,7,8,9\n",
    "\n",
    "2. There is an even number in data points.\n",
    "\n",
    "3. The mean is mean of 3 and 4 which is 3.5."
   ]
  },
  {
   "cell_type": "markdown",
   "id": "4601ae8d",
   "metadata": {},
   "source": [
    "<font color=\"red\">Python Code:</font>"
   ]
  },
  {
   "cell_type": "code",
   "execution_count": 5,
   "id": "c973f978",
   "metadata": {},
   "outputs": [
    {
     "name": "stdout",
     "output_type": "stream",
     "text": [
      "The median of the data point is 3.5\n"
     ]
    }
   ],
   "source": [
    "data = np.array([1,5,4,8,1,2,3,9])\n",
    "\n",
    "print(f'The median of the data point is {st.median(data)}')"
   ]
  },
  {
   "cell_type": "markdown",
   "id": "627642ef",
   "metadata": {},
   "source": [
    "# Mode\n",
    "\n",
    "The mode is the value that offers the largest number of times in a data set for the response category of a variable that is most frequently chosen by the respondents.\n",
    "\n",
    "In a bar chart or histogram mode is tallest bar.\n",
    "\n",
    "When a distribution has one mode we say it is unimodal if it has two modes we say it is bi-model if there are several modes we say it multi-modal if no value replace data has no mode."
   ]
  },
  {
   "cell_type": "markdown",
   "id": "3d50d6aa",
   "metadata": {},
   "source": [
    "### Finding the mode:\n",
    "\n",
    "The mode is the most commonly occuring data points in a dataset. The mode is useful when there are lots of repeated values in a datset. There can be no mode, one mode or multiple modes."
   ]
  },
  {
   "cell_type": "markdown",
   "id": "29b1f1ae",
   "metadata": {},
   "source": [
    "<font color=\"red\">Mathematical Implementation </font>\n",
    "\n",
    "Question: Find the mode of the data: 1,5,4,8,1,2,3,9.\n",
    "\n",
    "Answer:\n",
    "\n",
    "As we can see the 1 is occuring the highest times. So the mode is 1."
   ]
  },
  {
   "cell_type": "markdown",
   "id": "73ee2dc4",
   "metadata": {},
   "source": [
    "<font color=\"red\">Python Code:</font>"
   ]
  },
  {
   "cell_type": "code",
   "execution_count": 6,
   "id": "6e506d74",
   "metadata": {},
   "outputs": [
    {
     "name": "stdout",
     "output_type": "stream",
     "text": [
      "The mode of the data poin is 1\n"
     ]
    }
   ],
   "source": [
    "data = np.array([1,5,4,8,1,2,3,9])\n",
    "\n",
    "print(f'The mode of the data poin is {st.mode(data)}')"
   ]
  },
  {
   "cell_type": "markdown",
   "id": "eb625cc0",
   "metadata": {},
   "source": [
    "# Measures of Central Tendency with level of measurements:\n",
    "\n",
    "### Nominal Data: \n",
    "Measures of Central tendency are applied to the frequency found in different categories of a nominal variable.  \n",
    "\n",
    "In nominal data mode is only measure of Central tendency that can be used.\n",
    "\n",
    "### Ordinal Data:\n",
    "Either **median** or **mode** is the measure of Central tendency that can be used. Here median is a preferred measure of Central tendency.\n",
    "\n",
    "### Interval or Ratio:\n",
    "The **mean median and mode** may be the used as measure of Central tendency. \n",
    "\n",
    "- For **normal distribution** <font color=\"red\">mean</font> is a most preferred measure of Central tendency. \n",
    "\n",
    "- For **skewed distribution** <font color=\"red\">median</font> is a most preferred over mean and mode.\n",
    "\n",
    "The mode is only measure of Central tendency that can be used for all level of measurements"
   ]
  },
  {
   "cell_type": "markdown",
   "id": "51b3a308",
   "metadata": {},
   "source": [
    "### Given a set of marks of students in a class. Find mean, median and mode.\n",
    "\n",
    "### Marks = {40, 32, 42, 40, 15, 25, 40, 10, 32, 40, 37, 23,18, 29,41}"
   ]
  },
  {
   "cell_type": "code",
   "execution_count": 7,
   "id": "7eda6777",
   "metadata": {},
   "outputs": [
    {
     "name": "stdout",
     "output_type": "stream",
     "text": [
      "The mean of the data points in the data set is 30\n",
      "The median of the data points in the data set is 32\n",
      "The mode of the data points in the data set is 40\n"
     ]
    }
   ],
   "source": [
    "import numpy as np\n",
    "import statistics as st\n",
    "\n",
    "data = np.array([40,32,42,40,15,25,40,10,32,40,37,23,18,29,41])\n",
    "\n",
    "mean = st.mean(data)\n",
    "median = st.median(data)\n",
    "mode = st.mode(data)\n",
    "\n",
    "print(f\"The mean of the data points in the data set is {mean}\")\n",
    "print(f\"The median of the data points in the data set is {median}\")\n",
    "print(f\"The mode of the data points in the data set is {mode}\")"
   ]
  },
  {
   "cell_type": "markdown",
   "id": "008eadf8",
   "metadata": {},
   "source": []
  },
  {
   "cell_type": "code",
   "execution_count": 12,
   "id": "f0a31fb3",
   "metadata": {},
   "outputs": [
    {
     "data": {
      "text/html": [
       "<div>\n",
       "<style scoped>\n",
       "    .dataframe tbody tr th:only-of-type {\n",
       "        vertical-align: middle;\n",
       "    }\n",
       "\n",
       "    .dataframe tbody tr th {\n",
       "        vertical-align: top;\n",
       "    }\n",
       "\n",
       "    .dataframe thead th {\n",
       "        text-align: right;\n",
       "    }\n",
       "</style>\n",
       "<table border=\"1\" class=\"dataframe\">\n",
       "  <thead>\n",
       "    <tr style=\"text-align: right;\">\n",
       "      <th></th>\n",
       "      <th>Observation Number</th>\n",
       "      <th>Temperature (Xi)</th>\n",
       "      <th>Yield (Yi)</th>\n",
       "    </tr>\n",
       "  </thead>\n",
       "  <tbody>\n",
       "    <tr>\n",
       "      <th>0</th>\n",
       "      <td>1</td>\n",
       "      <td>50</td>\n",
       "      <td>122</td>\n",
       "    </tr>\n",
       "    <tr>\n",
       "      <th>1</th>\n",
       "      <td>2</td>\n",
       "      <td>53</td>\n",
       "      <td>118</td>\n",
       "    </tr>\n",
       "    <tr>\n",
       "      <th>2</th>\n",
       "      <td>3</td>\n",
       "      <td>54</td>\n",
       "      <td>128</td>\n",
       "    </tr>\n",
       "    <tr>\n",
       "      <th>3</th>\n",
       "      <td>4</td>\n",
       "      <td>55</td>\n",
       "      <td>121</td>\n",
       "    </tr>\n",
       "    <tr>\n",
       "      <th>4</th>\n",
       "      <td>5</td>\n",
       "      <td>56</td>\n",
       "      <td>125</td>\n",
       "    </tr>\n",
       "    <tr>\n",
       "      <th>5</th>\n",
       "      <td>6</td>\n",
       "      <td>59</td>\n",
       "      <td>136</td>\n",
       "    </tr>\n",
       "    <tr>\n",
       "      <th>6</th>\n",
       "      <td>7</td>\n",
       "      <td>62</td>\n",
       "      <td>144</td>\n",
       "    </tr>\n",
       "    <tr>\n",
       "      <th>7</th>\n",
       "      <td>8</td>\n",
       "      <td>65</td>\n",
       "      <td>142</td>\n",
       "    </tr>\n",
       "    <tr>\n",
       "      <th>8</th>\n",
       "      <td>9</td>\n",
       "      <td>67</td>\n",
       "      <td>149</td>\n",
       "    </tr>\n",
       "    <tr>\n",
       "      <th>9</th>\n",
       "      <td>10</td>\n",
       "      <td>71</td>\n",
       "      <td>161</td>\n",
       "    </tr>\n",
       "    <tr>\n",
       "      <th>10</th>\n",
       "      <td>11</td>\n",
       "      <td>72</td>\n",
       "      <td>167</td>\n",
       "    </tr>\n",
       "    <tr>\n",
       "      <th>11</th>\n",
       "      <td>12</td>\n",
       "      <td>74</td>\n",
       "      <td>168</td>\n",
       "    </tr>\n",
       "    <tr>\n",
       "      <th>12</th>\n",
       "      <td>13</td>\n",
       "      <td>75</td>\n",
       "      <td>162</td>\n",
       "    </tr>\n",
       "    <tr>\n",
       "      <th>13</th>\n",
       "      <td>14</td>\n",
       "      <td>76</td>\n",
       "      <td>171</td>\n",
       "    </tr>\n",
       "    <tr>\n",
       "      <th>14</th>\n",
       "      <td>15</td>\n",
       "      <td>79</td>\n",
       "      <td>175</td>\n",
       "    </tr>\n",
       "    <tr>\n",
       "      <th>15</th>\n",
       "      <td>16</td>\n",
       "      <td>80</td>\n",
       "      <td>182</td>\n",
       "    </tr>\n",
       "    <tr>\n",
       "      <th>16</th>\n",
       "      <td>17</td>\n",
       "      <td>82</td>\n",
       "      <td>180</td>\n",
       "    </tr>\n",
       "    <tr>\n",
       "      <th>17</th>\n",
       "      <td>18</td>\n",
       "      <td>85</td>\n",
       "      <td>183</td>\n",
       "    </tr>\n",
       "    <tr>\n",
       "      <th>18</th>\n",
       "      <td>19</td>\n",
       "      <td>87</td>\n",
       "      <td>188</td>\n",
       "    </tr>\n",
       "    <tr>\n",
       "      <th>19</th>\n",
       "      <td>20</td>\n",
       "      <td>90</td>\n",
       "      <td>200</td>\n",
       "    </tr>\n",
       "    <tr>\n",
       "      <th>20</th>\n",
       "      <td>21</td>\n",
       "      <td>93</td>\n",
       "      <td>194</td>\n",
       "    </tr>\n",
       "    <tr>\n",
       "      <th>21</th>\n",
       "      <td>22</td>\n",
       "      <td>94</td>\n",
       "      <td>206</td>\n",
       "    </tr>\n",
       "    <tr>\n",
       "      <th>22</th>\n",
       "      <td>23</td>\n",
       "      <td>95</td>\n",
       "      <td>207</td>\n",
       "    </tr>\n",
       "    <tr>\n",
       "      <th>23</th>\n",
       "      <td>24</td>\n",
       "      <td>97</td>\n",
       "      <td>210</td>\n",
       "    </tr>\n",
       "    <tr>\n",
       "      <th>24</th>\n",
       "      <td>25</td>\n",
       "      <td>100</td>\n",
       "      <td>219</td>\n",
       "    </tr>\n",
       "  </tbody>\n",
       "</table>\n",
       "</div>"
      ],
      "text/plain": [
       "    Observation Number  Temperature (Xi)  Yield (Yi)\n",
       "0                    1                50         122\n",
       "1                    2                53         118\n",
       "2                    3                54         128\n",
       "3                    4                55         121\n",
       "4                    5                56         125\n",
       "5                    6                59         136\n",
       "6                    7                62         144\n",
       "7                    8                65         142\n",
       "8                    9                67         149\n",
       "9                   10                71         161\n",
       "10                  11                72         167\n",
       "11                  12                74         168\n",
       "12                  13                75         162\n",
       "13                  14                76         171\n",
       "14                  15                79         175\n",
       "15                  16                80         182\n",
       "16                  17                82         180\n",
       "17                  18                85         183\n",
       "18                  19                87         188\n",
       "19                  20                90         200\n",
       "20                  21                93         194\n",
       "21                  22                94         206\n",
       "22                  23                95         207\n",
       "23                  24                97         210\n",
       "24                  25               100         219"
      ]
     },
     "execution_count": 12,
     "metadata": {},
     "output_type": "execute_result"
    }
   ],
   "source": [
    "# importing the dataset\n",
    "df = pd.read_csv('Yield_vs_Temperature.csv')\n",
    "df"
   ]
  },
  {
   "cell_type": "code",
   "execution_count": 9,
   "id": "36707310",
   "metadata": {},
   "outputs": [
    {
     "data": {
      "text/plain": [
       "74.84"
      ]
     },
     "execution_count": 9,
     "metadata": {},
     "output_type": "execute_result"
    }
   ],
   "source": [
    "# finding mean\n",
    "df['Temperature (Xi)'].mean()"
   ]
  },
  {
   "cell_type": "code",
   "execution_count": 10,
   "id": "ddec5aff",
   "metadata": {},
   "outputs": [
    {
     "data": {
      "text/plain": [
       "75.0"
      ]
     },
     "execution_count": 10,
     "metadata": {},
     "output_type": "execute_result"
    }
   ],
   "source": [
    "# finding median\n",
    "df['Temperature (Xi)'].median()"
   ]
  },
  {
   "cell_type": "code",
   "execution_count": 15,
   "id": "3022ed27",
   "metadata": {},
   "outputs": [
    {
     "data": {
      "text/plain": [
       "50"
      ]
     },
     "execution_count": 15,
     "metadata": {},
     "output_type": "execute_result"
    }
   ],
   "source": [
    "# finding mode\n",
    "st.mode(df['Temperature (Xi)'])"
   ]
  }
 ],
 "metadata": {
  "kernelspec": {
   "display_name": "Python 3",
   "language": "python",
   "name": "python3"
  },
  "language_info": {
   "codemirror_mode": {
    "name": "ipython",
    "version": 3
   },
   "file_extension": ".py",
   "mimetype": "text/x-python",
   "name": "python",
   "nbconvert_exporter": "python",
   "pygments_lexer": "ipython3",
   "version": "3.8.8"
  }
 },
 "nbformat": 4,
 "nbformat_minor": 5
}
